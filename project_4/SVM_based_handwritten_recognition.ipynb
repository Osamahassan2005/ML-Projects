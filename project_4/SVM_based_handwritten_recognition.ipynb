{
 "cells": [
  {
   "cell_type": "code",
   "execution_count": 2,
   "id": "87f865d6-289c-464b-9336-796cce2b54e3",
   "metadata": {},
   "outputs": [],
   "source": [
    "import matplotlib.pyplot as plt\n",
    "%matplotlib inline\n",
    "import pylab as pl\n",
    "from sklearn.datasets import load_digits\n",
    "from sklearn.model_selection import train_test_split\n",
    "from sklearn import svm"
   ]
  },
  {
   "cell_type": "code",
   "execution_count": 3,
   "id": "a60549c1-b832-4b33-b9ab-da08f3e5f75c",
   "metadata": {},
   "outputs": [],
   "source": [
    "digits=load_digits()"
   ]
  },
  {
   "cell_type": "code",
   "execution_count": 7,
   "id": "e15cea22-94d4-4ef1-8731-a6393389baa0",
   "metadata": {},
   "outputs": [
    {
     "data": {
      "text/plain": [
       "<Figure size 640x480 with 0 Axes>"
      ]
     },
     "metadata": {},
     "output_type": "display_data"
    },
    {
     "data": {
      "image/png": "[encoded data removed]",
      "text/plain": [
       "<Figure size 480x480 with 1 Axes>"
      ]
     },
     "metadata": {},
     "output_type": "display_data"
    }
   ],
   "source": [
    "pl.gray()\n",
    "pl.matshow(digits.images[14])\n",
    "pl.show()"
   ]
  },
  {
   "cell_type": "code",
   "execution_count": 8,
   "id": "46b8a104-a9e6-40e8-a8ec-a48b1f325394",
   "metadata": {},
   "outputs": [
    {
     "data": {
      "text/plain": [
       "array([[ 0.,  0.,  0.,  8., 15.,  1.,  0.,  0.],\n",
       "       [ 0.,  0.,  1., 14., 13.,  1.,  1.,  0.],\n",
       "       [ 0.,  0., 10., 15.,  3., 15., 11.,  0.],\n",
       "       [ 0.,  7., 16.,  7.,  1., 16.,  8.,  0.],\n",
       "       [ 0.,  9., 16., 13., 14., 16.,  5.,  0.],\n",
       "       [ 0.,  1., 10., 15., 16., 14.,  0.,  0.],\n",
       "       [ 0.,  0.,  0.,  1., 16., 10.,  0.,  0.],\n",
       "       [ 0.,  0.,  0., 10., 15.,  4.,  0.,  0.]])"
      ]
     },
     "execution_count": 8,
     "metadata": {},
     "output_type": "execute_result"
    }
   ],
   "source": [
    "digits.images[14]"
   ]
  },
  {
   "cell_type": "code",
   "execution_count": 11,
   "id": "b2e48b2c-7c54-4b73-b475-5b2140fc3196",
   "metadata": {},
   "outputs": [
    {
     "data": {
      "image/png": "[encoded data removed]",
      "text/plain": [
       "<Figure size 500x500 with 15 Axes>"
      ]
     },
     "metadata": {},
     "output_type": "display_data"
    }
   ],
   "source": [
    "images_and_labels= list(zip(digits.images,digits.target))\n",
    "plt.figure(figsize=(5,5))\n",
    "for index,(image,label) in enumerate(images_and_labels[:15]):\n",
    "    plt.subplot(3,5,index+1)\n",
    "    plt.axis('off')\n",
    "    plt.imshow(image,cmap=plt.cm.gray_r,interpolation='nearest')\n",
    "    plt.title('%i' % label)"
   ]
  },
  {
   "cell_type": "code",
   "execution_count": 12,
   "id": "c0ccdffe-65a6-44df-b22b-3ce430dec9b2",
   "metadata": {},
   "outputs": [
    {
     "data": {
      "text/plain": [
       "1797"
      ]
     },
     "execution_count": 12,
     "metadata": {},
     "output_type": "execute_result"
    }
   ],
   "source": [
    "n_samples=len(digits.images)\n",
    "n_samples"
   ]
  },
  {
   "cell_type": "code",
   "execution_count": 13,
   "id": "8ede7c42-46ea-4f64-8a35-f99fd288c0ba",
   "metadata": {},
   "outputs": [],
   "source": [
    "X= digits.images.reshape((n_samples, -1))\n",
    "y= digits.target"
   ]
  },
  {
   "cell_type": "code",
   "execution_count": 15,
   "id": "2c240595-7b5f-4b01-ae15-3e170b276ed7",
   "metadata": {},
   "outputs": [
    {
     "name": "stdout",
     "output_type": "stream",
     "text": [
      "(1347, 64)\n",
      "(450, 64)\n"
     ]
    }
   ],
   "source": [
    "X_train,X_test,y_train,y_test=train_test_split(X,y)\n",
    "print(X_train.shape)\n",
    "print(X_test.shape)"
   ]
  },
  {
   "cell_type": "code",
   "execution_count": 16,
   "id": "05ca82e1-9681-4c02-a495-c7b4232de383",
   "metadata": {},
   "outputs": [],
   "source": [
    "model_linear = svm.SVC(kernel='linear',degree=3,gamma='scale')\n",
    "model_linear.fit(X_train,y_train)\n",
    "\n",
    "y_predict=model_linear.predict(X_test)"
   ]
  },
  {
   "cell_type": "code",
   "execution_count": 17,
   "id": "bf24acc0-1784-4e29-a3c0-e6e2b7d20b1b",
   "metadata": {},
   "outputs": [
    {
     "data": {
      "text/plain": [
       "0.98"
      ]
     },
     "execution_count": 17,
     "metadata": {},
     "output_type": "execute_result"
    }
   ],
   "source": [
    "model_linear.score(X_test,y_test)"
   ]
  },
  {
   "cell_type": "code",
   "execution_count": 18,
   "id": "376c50a8-64f9-4008-bfdf-eefaddcd9644",
   "metadata": {},
   "outputs": [
    {
     "data": {
      "text/plain": [
       "0.9911111111111112"
      ]
     },
     "execution_count": 18,
     "metadata": {},
     "output_type": "execute_result"
    }
   ],
   "source": [
    "model_linear = svm.SVC(kernel='rbf',degree=3,gamma='scale')\n",
    "model_linear.fit(X_train,y_train)\n",
    "\n",
    "y_predict=model_linear.predict(X_test)\n",
    "model_linear.score(X_test,y_test)"
   ]
  },
  {
   "cell_type": "code",
   "execution_count": 19,
   "id": "27c1a859-1127-48a9-877b-523175573003",
   "metadata": {},
   "outputs": [
    {
     "name": "stdout",
     "output_type": "stream",
     "text": [
      "              precision    recall  f1-score   support\n",
      "\n",
      "           0       1.00      1.00      1.00        40\n",
      "           1       0.98      1.00      0.99        44\n",
      "           2       1.00      1.00      1.00        46\n",
      "           3       1.00      1.00      1.00        48\n",
      "           4       1.00      0.93      0.96        43\n",
      "           5       1.00      1.00      1.00        43\n",
      "           6       1.00      1.00      1.00        39\n",
      "           7       0.98      1.00      0.99        41\n",
      "           8       0.96      0.98      0.97        44\n",
      "           9       1.00      1.00      1.00        62\n",
      "\n",
      "    accuracy                           0.99       450\n",
      "   macro avg       0.99      0.99      0.99       450\n",
      "weighted avg       0.99      0.99      0.99       450\n",
      "\n"
     ]
    }
   ],
   "source": [
    "from sklearn.metrics import classification_report\n",
    "pred=model_linear.predict(X_test)\n",
    "print(classification_report(y_test,pred))"
   ]
  },
  {
   "cell_type": "code",
   "execution_count": null,
   "id": "9b3ab2db-4cd0-45ec-a2e0-03432cdba172",
   "metadata": {},
   "outputs": [],
   "source": []
  }
 ],
 "metadata": {
  "kernelspec": {
   "display_name": "Python 3 (ipykernel)",
   "language": "python",
   "name": "python3"
  },
  "language_info": {
   "codemirror_mode": {
    "name": "ipython",
    "version": 3
   },
   "file_extension": ".py",
   "mimetype": "text/x-python",
   "name": "python",
   "nbconvert_exporter": "python",
   "pygments_lexer": "ipython3",
   "version": "3.12.6"
  }
 },
 "nbformat": 4,
 "nbformat_minor": 5
}
